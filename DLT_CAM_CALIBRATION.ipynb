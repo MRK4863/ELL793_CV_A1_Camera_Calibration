{
 "cells": [
  {
   "cell_type": "markdown",
   "metadata": {},
   "source": [
    "# Assignment: 1 - Camera Calibration "
   ]
  },
  {
   "cell_type": "markdown",
   "metadata": {},
   "source": [
    "### Importing necessary libraries"
   ]
  },
  {
   "cell_type": "code",
   "execution_count": 6,
   "metadata": {},
   "outputs": [],
   "source": [
    "import numpy as np\n",
    "import pandas as pd\n",
    "import scipy"
   ]
  },
  {
   "cell_type": "markdown",
   "metadata": {},
   "source": [
    "### Normalization"
   ]
  },
  {
   "cell_type": "code",
   "execution_count": 7,
   "metadata": {},
   "outputs": [],
   "source": [
    "def Normalization(nd, x):\n",
    "    '''\n",
    "    Normalization of coordinates (centroid to the origin and mean distance of sqrt(2 or 3).\n",
    "\n",
    "    Input\n",
    "    -----\n",
    "    nd: number of dimensions, 3 here\n",
    "    x: the data to be normalized (directions at different columns and points at rows)\n",
    "    Output\n",
    "    ------\n",
    "    Tr: the transformation matrix (translation plus scaling)\n",
    "    x: the transformed data\n",
    "    '''\n",
    "\n",
    "    x = np.asarray(x)\n",
    "    m, s = np.mean(x, 0), np.std(x)\n",
    "    if nd == 2:\n",
    "        Tr = np.array([[s, 0, m[0]], [0, s, m[1]], [0, 0, 1]])\n",
    "    else:\n",
    "        Tr = np.array([[s, 0, 0, m[0]], [0, s, 0, m[1]], [0, 0, s, m[2]], [0, 0, 0, 1]])\n",
    "        \n",
    "    Tr = np.linalg.inv(Tr)\n",
    "    x = np.dot( Tr, np.concatenate( (x.T, np.ones((1,x.shape[0]))) ) )\n",
    "    x = x[0:nd, :].T\n",
    "\n",
    "    return Tr, x"
   ]
  },
  {
   "cell_type": "markdown",
   "metadata": {},
   "source": [
    "### DLT Camera Calibration"
   ]
  },
  {
   "cell_type": "code",
   "execution_count": 29,
   "metadata": {},
   "outputs": [],
   "source": [
    "def DLTcalib(nd, xyz, uv):\n",
    "    '''\n",
    "    Camera calibration by DLT using known object points and their image points.\n",
    "\n",
    "    Input\n",
    "    -----\n",
    "    nd: dimensions of the object space, 3 here.\n",
    "    xyz: coordinates in the object 3D space.\n",
    "    uv: coordinates in the image 2D space.\n",
    "\n",
    "    The coordinates (x,y,z and u,v) are given as columns and the different points as rows.\n",
    "\n",
    "    There must be at least 6 calibration points for the 3D DLT.\n",
    "\n",
    "    Output\n",
    "    ------\n",
    "     L: array of 11 parameters of the calibration matrix.\n",
    "     err: error of the DLT (mean residual of the DLT transformation in units of camera coordinates).\n",
    "    '''\n",
    "    if (nd != 3):\n",
    "        raise ValueError('%dD DLT unsupported.' %(nd))\n",
    "    \n",
    "    # Converting all variables to numpy array\n",
    "    xyz = np.asarray(xyz)\n",
    "    uv = np.asarray(uv)\n",
    "\n",
    "    n = xyz.shape[0]\n",
    "\n",
    "    print(\"\\n\\nNUMBER OF POINTS: {}\\n\\n\".format(n))\n",
    "    # Validating the parameters:\n",
    "    if uv.shape[0] != n:\n",
    "        raise ValueError('Object (%d points) and image (%d points) have different number of points.' %(n, uv.shape[0]))\n",
    "\n",
    "    if (xyz.shape[1] != 3):\n",
    "        raise ValueError('Incorrect number of coordinates (%d) for %dD DLT (it should be %d).' %(xyz.shape[1],nd,nd))\n",
    "\n",
    "    if (n < 6):\n",
    "        raise ValueError('%dD DLT requires at least %d calibration points. Only %d points were entered.' %(nd, 2*nd, n))\n",
    "        \n",
    "    # Normalize the data to improve the DLT quality (DLT is dependent of the system of coordinates).\n",
    "    # This is relevant when there is a considerable perspective distortion.\n",
    "    # Normalization: mean position at origin and mean distance equals to 1 at each direction.\n",
    "    Txyz, xyzn = Normalization(nd, xyz)\n",
    "    Tuv, uvn = Normalization(2, uv)\n",
    "\n",
    "    A = []\n",
    "\n",
    "    for i in range(n):\n",
    "        x, y, z = xyzn[i, 0], xyzn[i, 1], xyzn[i, 2]\n",
    "        u, v = uvn[i, 0], uvn[i, 1]\n",
    "        A.append( [x, y, z, 1, 0, 0, 0, 0, -u * x, -u * y, -u * z, -u] )\n",
    "        A.append( [0, 0, 0, 0, x, y, z, 1, -v * x, -v * y, -v * z, -v] )\n",
    "\n",
    "    # Convert A to array\n",
    "    A = np.asarray(A) \n",
    "\n",
    "    # Find the 11 parameters:\n",
    "    U, S, V = np.linalg.svd(A)\n",
    "\n",
    "    # The parameters are in the last line of Vh and normalize them\n",
    "    L = V[-1, :] / V[-1, -1]\n",
    "    #print(L)\n",
    "    # Camera projection matrix\n",
    "    H = L.reshape(3, nd + 1)\n",
    "    #print(H)\n",
    "\n",
    "    # Denormalization\n",
    "    # pinv: Moore-Penrose pseudo-inverse of a matrix, generalized inverse of a matrix using its SVD\n",
    "    H = np.dot( np.dot( np.linalg.pinv(Tuv), H ), Txyz )\n",
    "    #print(H)\n",
    "    H = H / H[-1, -1]\n",
    "    #print(H)\n",
    "    L = H.flatten()\n",
    "    #print(L)\n",
    "\n",
    "    # Mean error of the DLT (mean residual of the DLT transformation in units of camera coordinates):\n",
    "    uv2 = np.dot( H, np.concatenate( (xyz.T, np.ones((1, xyz.shape[0]))) ) ) \n",
    "    uv2 = uv2 / uv2[2, :] \n",
    "    # Mean distance:\n",
    "    projected_pts = uv2.T\n",
    "    actual_pixels = uv\n",
    "\n",
    "    print('\\n\\nACTUAL PTS   |             ESTIMATED PTS')\n",
    "    for i in range(len(uv2.T)):\n",
    "        print(\"{}   <---->  {}\".format(actual_pixels[i], projected_pts[i]))\n",
    "\n",
    "    err = np.sqrt( np.mean(np.sum( (uv2[0:2, :].T - uv)**2, 1)) ) \n",
    "\n",
    "    return L, err"
   ]
  },
  {
   "cell_type": "code",
   "execution_count": 36,
   "metadata": {},
   "outputs": [],
   "source": [
    "def get_intrest_points():\n",
    "    # x = [20,  0, 0, 20, 20, 0, 0 , 0, 12.5, 5]\n",
    "    # y = [0,   20, 0, 20, 0, 20, 0, 7.5,17.5, 0]\n",
    "    # z = [0,   0, 20, 0, 20, 20, 0, 15, 0, 5]\n",
    "\n",
    "    # u = [450, 137, 288, 294, 462, 115, 297, 237, 252, 328]\n",
    "    # v = [630, 634, 382, 759, 417, 422, 552, 445, 690, 526]\n",
    "    # WORLD CORDINATES\n",
    "    data = pd.read_excel(\"dataset.xlsx\")\n",
    "    x = np.array(data['X'])\n",
    "    y = np.array(data['Y'])\n",
    "    z = np.array(data['Z'])\n",
    "\n",
    "    u = np.array(data['x'])\n",
    "    v= np.array(data['y'])\n",
    "\n",
    "    world_pts = []\n",
    "    pixel_pts = []\n",
    "\n",
    "    # world_df = pd.DataFrame()\n",
    "    # world_df[\"X\"] = np.array(x)\n",
    "    # world_df[\"Y\"] = np.array(y)\n",
    "    # world_df[\"Z\"] = np.array(z)\n",
    "\n",
    "    # pixel_df = pd.DataFrame()\n",
    "    # pixel_df['x'] = np.array(u)\n",
    "    # pixel_df['y'] = np.array(v)\n",
    "\n",
    "    # world_df.to_excel(\"world_coordinates.xlsx\")\n",
    "    # pixel_df.to_excel(\"image_pixel_coordinates.xlsx\")\n",
    "    \n",
    "\n",
    "    for i in range(10):\n",
    "        world_pts.append([x[i], y[i], z[i]])\n",
    "        pixel_pts.append([u[i], v[i]])\n",
    "\n",
    "    print(\"DATA FRAME\")\n",
    "    print(data)\n",
    "\n",
    "    # for i in range(len(world_pts)):\n",
    "    #     print(world_pts[i],\"  <---> \", pixel_pts[i])\n",
    "\n",
    "    # from sklearn.utils import shuffle\n",
    "    # world_pts, pixel_pts = shuffle(world_pts, pixel_pts, random_state = 0)\n",
    "\n",
    "\n",
    "        \n",
    "    print(\"\\n\\nWORLD points\")\n",
    "    print(world_pts)\n",
    "    return world_pts, pixel_pts\n",
    "\n",
    "def camera_param(P):\n",
    "    K, R = np.linalg.qr(P)\n",
    "    print(\"\\n\\nINTRINSIC MATRIX: \")\n",
    "    print(K)\n",
    "    print(\"\\n\\nROTATION MATRIX: \")\n",
    "    print(R)\n",
    "    "
   ]
  },
  {
   "cell_type": "code",
   "execution_count": 37,
   "metadata": {},
   "outputs": [
    {
     "name": "stdout",
     "output_type": "stream",
     "text": [
      "DATA FRAME\n",
      "      X     Y   Z    x    y\n",
      "0  20.0   0.0   0  450  630\n",
      "1   0.0  20.0   0  137  634\n",
      "2   0.0   0.0  20  288  382\n",
      "3  20.0  20.0   0  294  759\n",
      "4  20.0   0.0  20  462  417\n",
      "5   0.0  20.0  20  115  422\n",
      "6   0.0   0.0   0  297  552\n",
      "7   0.0   7.5  15  237  445\n",
      "8  12.5  17.5   0  252  690\n",
      "9   5.0   0.0   5  328  526\n",
      "\n",
      "\n",
      "WORLD points\n",
      "[[20.0, 0.0, 0], [0.0, 20.0, 0], [0.0, 0.0, 20], [20.0, 20.0, 0], [20.0, 0.0, 20], [0.0, 20.0, 20], [0.0, 0.0, 0], [0.0, 7.5, 15], [12.5, 17.5, 0], [5.0, 0.0, 5]]\n",
      "\n",
      "\n",
      "NUMBER OF POINTS: 10\n",
      "\n",
      "\n",
      "\n",
      "\n",
      "ACTUAL PTS   |             ESTIMATED PTS\n",
      "[450 630]   <---->  [451.4072449  628.60318511   1.        ]\n",
      "[137 634]   <---->  [138.46741682 633.95460016   1.        ]\n",
      "[288 382]   <---->  [289.85100482 381.21856696   1.        ]\n",
      "[294 759]   <---->  [294.81854532 761.04049839   1.        ]\n",
      "[462 417]   <---->  [460.83635275 417.945411     1.        ]\n",
      "[115 422]   <---->  [114.18965589 422.79992619   1.        ]\n",
      "[297 552]   <---->  [295.58425721 553.17879701   1.        ]\n",
      "[237 445]   <---->  [236.66107604 443.82594447   1.        ]\n",
      "[252 690]   <---->  [250.39241325 687.74778915   1.        ]\n",
      "[328 526]   <---->  [327.7452567  526.85997276   1.        ]\n",
      "Matrix\n",
      "[ 3.33886893e+00 -9.24702346e+00 -1.41415702e+00  2.95584257e+02\n",
      " -2.42876454e+00 -2.33054854e+00 -1.00809175e+01  5.53178797e+02\n",
      " -9.86311253e-03 -1.00469950e-02 -3.88991027e-03  1.00000000e+00]\n",
      "\n",
      "Error\n",
      "1.7846604247987097\n",
      "\n",
      "\n",
      "\n",
      "\n",
      "\n",
      "[[ 3.33886893e+00 -9.24702346e+00 -1.41415702e+00  2.95584257e+02]\n",
      " [-2.42876454e+00 -2.33054854e+00 -1.00809175e+01  5.53178797e+02]\n",
      " [-9.86311253e-03 -1.00469950e-02 -3.88991027e-03  1.00000000e+00]]\n",
      "\n",
      "\n",
      "INTRINSIC MATRIX: \n",
      "[[-8.08676603e-01 -5.88253474e-01 -4.68022334e-05]\n",
      " [ 5.88248626e-01 -8.08669609e-01 -4.12526407e-03]\n",
      " [ 2.38885338e-03 -3.36353589e-03  9.99991490e-01]]\n",
      "\n",
      "\n",
      "ROTATION MATRIX: \n",
      "[[-4.12880615e+00  6.10688555e+00 -4.78649947e+00  8.63769829e+01]\n",
      " [ 0.00000000e+00  7.32427124e+00  8.98402749e+00 -6.21220711e+02]\n",
      " [ 0.00000000e+00  0.00000000e+00  3.77627554e-02 -1.29585113e+00]]\n"
     ]
    }
   ],
   "source": [
    "\n",
    "# Known 3D coordinates\n",
    "xyz = [[-875, 0, 9.755], [442, 0, 9.755], [1921, 0, 9.755], [2951, 0.5, 9.755], [-4132, 0.5, 23.618],\n",
    "[-876, 0, 23.618]]\n",
    "# Known pixel coordinates\n",
    "uv = [[76, 706], [702, 706], [1440, 706], [1867, 706], [264, 523], [625, 523]]\n",
    "\n",
    "xyz, uv = get_intrest_points()\n",
    "nd = 3\n",
    "P, err = DLTcalib(nd, xyz, uv)\n",
    "\n",
    "P = P.reshape(3,4)\n",
    "\n",
    "\n",
    "\n",
    "\n"
   ]
  },
  {
   "cell_type": "markdown",
   "metadata": {},
   "source": [
    "### Projection matrix (P)"
   ]
  },
  {
   "cell_type": "code",
   "execution_count": 38,
   "metadata": {},
   "outputs": [
    {
     "name": "stdout",
     "output_type": "stream",
     "text": [
      "Matrix\n",
      "[ 3.33886893e+00 -9.24702346e+00 -1.41415702e+00  2.95584257e+02\n",
      " -2.42876454e+00 -2.33054854e+00 -1.00809175e+01  5.53178797e+02\n",
      " -9.86311253e-03 -1.00469950e-02 -3.88991027e-03  1.00000000e+00]\n"
     ]
    }
   ],
   "source": [
    "print('Matrix')\n",
    "print(P)"
   ]
  },
  {
   "cell_type": "markdown",
   "metadata": {},
   "source": [
    "### RMSE"
   ]
  },
  {
   "cell_type": "code",
   "execution_count": 39,
   "metadata": {},
   "outputs": [
    {
     "name": "stdout",
     "output_type": "stream",
     "text": [
      "\n",
      "Error\n",
      "1.7846604247987097\n"
     ]
    }
   ],
   "source": [
    "print('\\nError')\n",
    "print(err)"
   ]
  },
  {
   "cell_type": "markdown",
   "metadata": {},
   "source": [
    "### Camera Parameters"
   ]
  },
  {
   "cell_type": "code",
   "execution_count": 40,
   "metadata": {},
   "outputs": [
    {
     "name": "stdout",
     "output_type": "stream",
     "text": [
      "\n",
      "\n",
      "INTRINSIC MATRIX: \n",
      "[[-8.08676603e-01 -5.88253474e-01 -4.68022334e-05]\n",
      " [ 5.88248626e-01 -8.08669609e-01 -4.12526407e-03]\n",
      " [ 2.38885338e-03 -3.36353589e-03  9.99991490e-01]]\n",
      "\n",
      "\n",
      "ROTATION MATRIX: \n",
      "[[-4.12880615e+00  6.10688555e+00 -4.78649947e+00  8.63769829e+01]\n",
      " [ 0.00000000e+00  7.32427124e+00  8.98402749e+00 -6.21220711e+02]\n",
      " [ 0.00000000e+00  0.00000000e+00  3.77627554e-02 -1.29585113e+00]]\n"
     ]
    }
   ],
   "source": [
    "camera_param(P.reshape(3,4))"
   ]
  },
  {
   "cell_type": "code",
   "execution_count": null,
   "metadata": {},
   "outputs": [],
   "source": []
  }
 ],
 "metadata": {
  "interpreter": {
   "hash": "2cb84744a1a3dec1f0cb36b55e7222da6edc1f05d02af618d0e675a72b0ceb97"
  },
  "kernelspec": {
   "display_name": "Python 3.7.11 64-bit ('OpenCV_project': conda)",
   "language": "python",
   "name": "python3"
  },
  "language_info": {
   "codemirror_mode": {
    "name": "ipython",
    "version": 3
   },
   "file_extension": ".py",
   "mimetype": "text/x-python",
   "name": "python",
   "nbconvert_exporter": "python",
   "pygments_lexer": "ipython3",
   "version": "3.8.8"
  },
  "orig_nbformat": 4
 },
 "nbformat": 4,
 "nbformat_minor": 2
}
