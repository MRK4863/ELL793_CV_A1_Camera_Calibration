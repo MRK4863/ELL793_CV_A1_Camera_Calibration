{
 "cells": [
  {
   "cell_type": "markdown",
   "metadata": {},
   "source": [
    "# Assignment: 1 - Camera Calibration "
   ]
  },
  {
   "cell_type": "markdown",
   "metadata": {},
   "source": [
    "### Importing necessary libraries"
   ]
  },
  {
   "cell_type": "code",
   "execution_count": 82,
   "metadata": {},
   "outputs": [],
   "source": [
    "import numpy as np\n",
    "import pandas as pd\n",
    "from scipy import linalg"
   ]
  },
  {
   "cell_type": "markdown",
   "metadata": {},
   "source": [
    "### Normalization"
   ]
  },
  {
   "cell_type": "code",
   "execution_count": 83,
   "metadata": {},
   "outputs": [],
   "source": [
    "def Normalization(nd, x):\n",
    "    #CONVERTING TO NUMPY ARRAY\n",
    "    x = np.asarray(x)\n",
    "\n",
    "    #CALCULATING MEAN AND STANDARD DEVIATION\n",
    "    m, s = np.mean(x, 0), np.std(x)\n",
    "\n",
    "    print(\"mean = \", m, \"std = \", s)\n",
    "\n",
    "    #NORMALIZATION MATRIX FOR WORLD POINTS(3D) AND IMAGE-PIXEL POINTS(2D)\n",
    "    if nd == 2:\n",
    "        Tr = np.array([[s, 0, m[0]], [0, s, m[1]], [0, 0, 1]])\n",
    "    else:\n",
    "        Tr = np.array([[s, 0, 0, m[0]], [0, s, 0, m[1]], [0, 0, s, m[2]], [0, 0, 0, 1]])\n",
    "        \n",
    "    Tr = np.linalg.inv(Tr)\n",
    "    x = np.dot( Tr, np.concatenate( (x.T, np.ones((1,x.shape[0]))) ) )\n",
    "    x = x[0:nd, :].T\n",
    "\n",
    "    return Tr, x"
   ]
  },
  {
   "cell_type": "markdown",
   "metadata": {},
   "source": [
    "### DLT Camera Calibration"
   ]
  },
  {
   "cell_type": "code",
   "execution_count": 84,
   "metadata": {},
   "outputs": [],
   "source": [
    "def DLTcalib(nd, xyz, img_pt_):\n",
    "\n",
    "    if (nd != 3):\n",
    "        raise ValueError('%dD DLT unsupported.' %(nd))\n",
    "    \n",
    "    # Converting all variables to numpy array\n",
    "    xyz = np.asarray(xyz)\n",
    "    img_pt_ = np.asarray(img_pt_)\n",
    "\n",
    "    n = xyz.shape[0]\n",
    "\n",
    "    print(\"\\n\\nNUMBER OF POINTS: {}\\n\\n\".format(n))\n",
    "    # Validating the parameters:\n",
    "    if img_pt_.shape[0] != n:\n",
    "        raise ValueError('Object (%d points) and image (%d points) have different number of points.' %(n, img_pt_.shape[0]))\n",
    "\n",
    "    if (xyz.shape[1] != 3):\n",
    "        raise ValueError('Incorrect number of coordinates (%d) for %dD DLT (it should be %d).' %(xyz.shape[1],nd,nd))\n",
    "\n",
    "    if (n < 6):\n",
    "        raise ValueError('%dD DLT requires at least %d calibration points. Only %d points were entered.' %(nd, 2*nd, n))\n",
    "        \n",
    "    # Normalize the data to improve the DLT quality (DLT is dependent of the system of coordinates).\n",
    "    # This is relevant when there is a considerable perspective distortion.\n",
    "    # Normalization: mean position at origin and mean distance equals to 1 at each direction.\n",
    "    Txyz, xyzn = Norm(nd, xyz)\n",
    "    Timg_pt_, img_pt_n = Norm(2, img_pt_)\n",
    "\n",
    "    A = []\n",
    "\n",
    "    for i in range(n):\n",
    "        x, y, z = xyzn[i, 0], xyzn[i, 1], xyzn[i, 2]\n",
    "        u, v = img_pt_n[i, 0], img_pt_n[i, 1]\n",
    "        A.append( [x, y, z, 1, 0, 0, 0, 0, -u * x, -u * y, -u * z, -u] )\n",
    "        A.append( [0, 0, 0, 0, x, y, z, 1, -v * x, -v * y, -v * z, -v] )\n",
    "\n",
    "    # Convert A to array\n",
    "    A = np.asarray(A) \n",
    "\n",
    "    # Find the 11 parameters:\n",
    "    U, S, V = np.linalg.svd(A)\n",
    "\n",
    "    # The parameters are in the last line of Vh and normalize them\n",
    "    L = V[-1, :] / V[-1, -1]\n",
    "\n",
    "    # Camera projection matrix\n",
    "    H = L.reshape(3, nd + 1)\n",
    "\n",
    "\n",
    "    # Denormalization\n",
    "    H = np.dot( np.dot( np.linalg.pinv(Timg_pt_), H ), Txyz )\n",
    "    H = H / H[-1, -1]\n",
    "    L = H.flatten()\n",
    "\n",
    "    # Mean error of the DLT (mean residual of the DLT transformation in units of camera coordinates):\n",
    "    img_pt_2 = np.dot( H, np.concatenate( (xyz.T, np.ones((1, xyz.shape[0]))) ) ) \n",
    "    img_pt_2 = img_pt_2 / img_pt_2[2, :] \n",
    "\n",
    "    # Mean distance:\n",
    "    projected_pts = img_pt_2.T\n",
    "    actual_pixels = img_pt_\n",
    "\n",
    "    # Printing teh actual and the estimated points\n",
    "    print('\\n\\nACTUAL PTS   |             ESTIMATED PTS')\n",
    "    for i in range(len(img_pt_2.T)):\n",
    "        print(\"{}   <---->  {}\".format(actual_pixels[i], projected_pts[i]))\n",
    "\n",
    "    err = np.sqrt( np.mean(np.sum( (img_pt_2[0:2, :].T - img_pt_)**2, 1)) ) \n",
    "\n",
    "    return L, err"
   ]
  },
  {
   "cell_type": "code",
   "execution_count": 85,
   "metadata": {},
   "outputs": [],
   "source": [
    "def get_intrest_points():\n",
    "\n",
    "    # WORLD CORDINATES\n",
    "    data = pd.read_excel(\"dataset.xlsx\")\n",
    "    x = np.array(data['X'])\n",
    "    y = np.array(data['Y'])\n",
    "    z = np.array(data['Z'])\n",
    "\n",
    "    # IMAGE PIXEL COORDINATES\n",
    "    u = np.array(data['x'])\n",
    "    v= np.array(data['y'])\n",
    "\n",
    "    # LIST OF WORLD PTS AND CORRESPONDING PIXEL PTS\n",
    "    world_pts = []\n",
    "    pixel_pts = []\n",
    "\n",
    "    for i in range(10):\n",
    "        world_pts.append([x[i], y[i], z[i]])\n",
    "        pixel_pts.append([u[i], v[i]])\n",
    "\n",
    "    print(\"DATA FRAME\")\n",
    "    print(data)\n",
    "\n",
    "    # from sklearn.utils import shuffle\n",
    "    # world_pts, pixel_pts = shuffle(world_pts, pixel_pts, random_state = 0)\n",
    "\n",
    "    print(\"\\n\\nWORLD points\")\n",
    "    print(world_pts)\n",
    "    return world_pts, pixel_pts\n",
    "   "
   ]
  },
  {
   "cell_type": "markdown",
   "metadata": {},
   "source": [
    "### RQ Decomposition "
   ]
  },
  {
   "cell_type": "code",
   "execution_count": 86,
   "metadata": {},
   "outputs": [],
   "source": [
    "def RQ_decomposition(P):\n",
    "    M = P[0:3,0:3]\n",
    "    print(\"\\nM:\\n\",M)\n",
    "    K, R = linalg.rq(M)\n",
    "    T = np.diag(np.sign(np.diag(K)))\n",
    "    print(T)\n",
    "\n",
    "    K = np.dot(K, T)\n",
    "    R = np.dot(T, R)\n",
    "    C = np.dot(linalg.inv(-M), P[:, 3])\n",
    "    return K, R, C\n"
   ]
  },
  {
   "cell_type": "code",
   "execution_count": 87,
   "metadata": {},
   "outputs": [],
   "source": [
    "    def camera_param(P):\n",
    "        print(\"\\nP:\\n\",P)\n",
    "\n",
    "        K, R, C = RQ_decomposition(P)\n",
    "\n",
    "        print(\"\\n\\n K MATRIX: \")\n",
    "        print(K)\n",
    "        print(\"\\n\\n R MATRIX: \")\n",
    "        print(R)\n",
    "        print(\"\\n\\n Camera center: \")\n",
    "        print(C)\n",
    "\n",
    "        print(\"\\n\\n Normalized camera matrix: \")\n",
    "        print(K/K[2][2])\n"
   ]
  },
  {
   "cell_type": "code",
   "execution_count": 88,
   "metadata": {},
   "outputs": [],
   "source": [
    "#camera_param(P)"
   ]
  },
  {
   "cell_type": "code",
   "execution_count": 89,
   "metadata": {},
   "outputs": [
    {
     "name": "stdout",
     "output_type": "stream",
     "text": [
      "DATA FRAME\n",
      "       X     Y   Z    x     y  Unnamed: 5\n",
      "0   20.0   0.0   0  708   991           1\n",
      "1    0.0  20.0   0  213   998           2\n",
      "2    0.0   0.0  20  455   597           3\n",
      "3   20.0  20.0   0  464  1192           4\n",
      "4   20.0   0.0  20  727   658           5\n",
      "5    0.0  20.0  20  182   665           6\n",
      "6    0.0  15.0  10  279   810           7\n",
      "7    0.0   7.5  15  373   699           8\n",
      "8   12.5  17.5   0  396  1082           9\n",
      "9    5.0   0.0   5  516   828          10\n",
      "10  10.0  10.0   0  463   998          11\n",
      "11  10.0   0.0  10  576   779          12\n",
      "12   0.0  10.0  10  343   784          13\n",
      "13   0.0   0.0   0  463   874          14\n",
      "14  15.0  10.0   0  529  1038          15\n",
      "15  15.0   0.0  10  642   805          16\n",
      "16  25.0   0.0  25  829   576          17\n",
      "17   0.0  25.0  25   76   586          18\n",
      "\n",
      "\n",
      "WORLD points\n",
      "[[20.0, 0.0, 0], [0.0, 20.0, 0], [0.0, 0.0, 20], [20.0, 20.0, 0], [20.0, 0.0, 20], [0.0, 20.0, 20], [0.0, 15.0, 10], [0.0, 7.5, 15], [12.5, 17.5, 0], [5.0, 0.0, 5]]\n",
      "\n",
      "\n",
      "NUMBER OF POINTS: 10\n",
      "\n",
      "\n",
      "mean =  [431.3 852. ]\n",
      "scale =  0.0017112552291867849\n",
      "\n",
      "\n",
      "ACTUAL PTS   |             ESTIMATED PTS\n",
      "[708 991]   <---->  [709.08748377 989.70792073   1.        ]\n",
      "[213 998]   <---->  [215.43888183 998.56080558   1.        ]\n",
      "[455 597]   <---->  [456.75667181 597.32540415   1.        ]\n",
      "[ 464 1192]   <---->  [4.64882980e+02 1.19263372e+03 1.00000000e+00]\n",
      "[727 658]   <---->  [726.60726981 658.80436813   1.        ]\n",
      "[182 665]   <---->  [182.66607265 664.84135086   1.        ]\n",
      "[279 810]   <---->  [276.45236586 810.28059118   1.        ]\n",
      "[373 699]   <---->  [372.21975682 697.17090949   1.        ]\n",
      "[ 396 1082]   <---->  [3.94082009e+02 1.08152617e+03 1.00000000e+00]\n",
      "[516 828]   <---->  [514.83455163 829.20815849   1.        ]\n"
     ]
    }
   ],
   "source": [
    "\n",
    "xyz, img_pt_ = get_intrest_points()\n",
    "nd = 3\n",
    "P, err = DLTcalib(nd, xyz, img_pt_)\n",
    "P = P.reshape(3,4)"
   ]
  },
  {
   "cell_type": "markdown",
   "metadata": {},
   "source": [
    "### Projection matrix (P)"
   ]
  },
  {
   "cell_type": "code",
   "execution_count": 90,
   "metadata": {},
   "outputs": [
    {
     "name": "stdout",
     "output_type": "stream",
     "text": [
      "Matrix\n",
      "[[ 5.71644451e+00 -1.44566549e+01 -2.00255961e+00  4.62669395e+02]\n",
      " [-3.29192351e+00 -3.34205262e+00 -1.59251192e+01  8.71183066e+02]\n",
      " [-9.31402693e-03 -9.72493565e-03 -3.73705201e-03  1.00000000e+00]]\n"
     ]
    }
   ],
   "source": [
    "print('Matrix')\n",
    "print(P)"
   ]
  },
  {
   "cell_type": "markdown",
   "metadata": {},
   "source": [
    "### RMSE"
   ]
  },
  {
   "cell_type": "code",
   "execution_count": 91,
   "metadata": {},
   "outputs": [
    {
     "name": "stdout",
     "output_type": "stream",
     "text": [
      "\n",
      "Error\n",
      "1.7889239466599147\n"
     ]
    }
   ],
   "source": [
    "print('\\nError')\n",
    "print(err)"
   ]
  },
  {
   "cell_type": "markdown",
   "metadata": {},
   "source": [
    "### Camera Parameters"
   ]
  },
  {
   "cell_type": "code",
   "execution_count": 92,
   "metadata": {},
   "outputs": [
    {
     "name": "stdout",
     "output_type": "stream",
     "text": [
      "\n",
      "P:\n",
      " [[ 5.71644451e+00 -1.44566549e+01 -2.00255961e+00  4.62669395e+02]\n",
      " [-3.29192351e+00 -3.34205262e+00 -1.59251192e+01  8.71183066e+02]\n",
      " [-9.31402693e-03 -9.72493565e-03 -3.73705201e-03  1.00000000e+00]]\n",
      "\n",
      "M:\n",
      " [[ 5.71644451e+00 -1.44566549e+01 -2.00255961e+00]\n",
      " [-3.29192351e+00 -3.34205262e+00 -1.59251192e+01]\n",
      " [-9.31402693e-03 -9.72493565e-03 -3.73705201e-03]]\n",
      "[[ 1.  0.  0.]\n",
      " [ 0. -1.  0.]\n",
      " [ 0.  0.  1.]]\n",
      "\n",
      "\n",
      " K MATRIX: \n",
      "[[1.41286161e+01 1.29046670e-01 6.78589769e+00]\n",
      " [0.00000000e+00 1.40909532e+01 8.77841314e+00]\n",
      " [0.00000000e+00 0.00000000e+00 1.39746567e-02]]\n",
      "\n",
      "\n",
      " R MATRIX: \n",
      "[[ 0.72305535 -0.69077545 -0.00449824]\n",
      " [ 0.18159435  0.19635489 -0.96357057]\n",
      " [-0.66649415 -0.695898   -0.26741637]]\n",
      "\n",
      "\n",
      " Camera center: \n",
      "[45.84792805 45.18150475 35.74580636]\n",
      "\n",
      "\n",
      " Normalized camera matrix: \n",
      "[[1.01101705e+03 9.23433566e+00 4.85586005e+02]\n",
      " [0.00000000e+00 1.00832196e+03 6.28166642e+02]\n",
      " [0.00000000e+00 0.00000000e+00 1.00000000e+00]]\n"
     ]
    }
   ],
   "source": [
    "camera_param(P.reshape(3,4))"
   ]
  },
  {
   "cell_type": "code",
   "execution_count": 93,
   "metadata": {},
   "outputs": [],
   "source": [
    "import cv2 as cv"
   ]
  },
  {
   "cell_type": "code",
   "execution_count": 94,
   "metadata": {},
   "outputs": [],
   "source": [
    "img = cv.imread('THREE_PLANE_DATA/image (12).jpg')\n",
    "cv.imshow('orginal image', img)"
   ]
  },
  {
   "cell_type": "code",
   "execution_count": 95,
   "metadata": {},
   "outputs": [],
   "source": [
    "def Norm(nd, x):\n",
    "    #CONVERTING TO NUMPY ARRAY\n",
    "    x = np.asarray(x)\n",
    "#print(x)\n",
    "\n",
    "    #CALCULATING MEAN AND STANDARD DEVIATION\n",
    "    m = np.mean(x, 0)\n",
    "\n",
    "    #NORMALIZATION MATRIX FOR WORLD POINTS(3D) AND IMAGE-PIXEL POINTS(2D)\n",
    "    if nd == 2:\n",
    "        A = np.array([[1, 0, -m[0]], [0, 1, -m[1]], [0, 0, 1]])\n",
    "        dist = np.mean(np.sqrt(np.sum(np.square(x-m))))\n",
    "        s2D = np.sqrt(2)/dist\n",
    "        print(\"mean = \", m)\n",
    "        print(\"scale = \", s2D)\n",
    "\n",
    "        S1 = np.array([[s2D, 0, 0], [0, s2D, 0], [0, 0, 1]])\n",
    "        Tr = np.matmul(S1, A)\n",
    "\n",
    "    else:\n",
    "        dist = np.mean(np.sqrt(np.sum(np.square(x-m))))\n",
    "        s3D = np.sqrt(3)/dist\n",
    "        Tr = np.diag([s3D, s3D, s3D, 1])\n",
    "        Tr[0:3, 3] = -m*s3D\n",
    "        \n",
    "    #Tr = np.linalg.inv(Tr)\n",
    "    x = np.dot(Tr, np.concatenate( (x.T, np.ones((1,x.shape[0]))) ) )\n",
    "    x = x[0:nd, :].T\n",
    "\n",
    "    return Tr, x"
   ]
  },
  {
   "cell_type": "code",
   "execution_count": 96,
   "metadata": {},
   "outputs": [
    {
     "name": "stdout",
     "output_type": "stream",
     "text": [
      "mean =  [ 7.75 10.    9.  ] std =  8.819564741086841\n"
     ]
    },
    {
     "data": {
      "text/plain": [
       "(array([[ 0.11338428,  0.        ,  0.        , -0.87872817],\n",
       "        [ 0.        ,  0.11338428,  0.        , -1.1338428 ],\n",
       "        [ 0.        ,  0.        ,  0.11338428, -1.02045852],\n",
       "        [ 0.        ,  0.        ,  0.        ,  1.        ]]),\n",
       " array([[ 1.38895743, -1.1338428 , -1.02045852],\n",
       "        [-0.87872817,  1.1338428 , -1.02045852],\n",
       "        [-0.87872817, -1.1338428 ,  1.24722708],\n",
       "        [ 1.38895743,  1.1338428 , -1.02045852],\n",
       "        [ 1.38895743, -1.1338428 ,  1.24722708],\n",
       "        [-0.87872817,  1.1338428 ,  1.24722708],\n",
       "        [-0.87872817,  0.5669214 ,  0.11338428],\n",
       "        [-0.87872817, -0.2834607 ,  0.68030568],\n",
       "        [ 0.53857533,  0.8503821 , -1.02045852],\n",
       "        [-0.31180677, -1.1338428 , -0.45353712]]))"
      ]
     },
     "execution_count": 96,
     "metadata": {},
     "output_type": "execute_result"
    }
   ],
   "source": [
    "Normalization(3, xyz)"
   ]
  },
  {
   "cell_type": "code",
   "execution_count": 97,
   "metadata": {},
   "outputs": [
    {
     "data": {
      "text/plain": [
       "(array([[ 0.03605213,  0.        ,  0.        , -0.27940403],\n",
       "        [ 0.        ,  0.03605213,  0.        , -0.36052133],\n",
       "        [ 0.        ,  0.        ,  0.03605213, -0.3244692 ],\n",
       "        [ 0.        ,  0.        ,  0.        ,  1.        ]]),\n",
       " array([[ 0.44163863, -0.36052133, -0.3244692 ],\n",
       "        [-0.27940403,  0.36052133, -0.3244692 ],\n",
       "        [-0.27940403, -0.36052133,  0.39657346],\n",
       "        [ 0.44163863,  0.36052133, -0.3244692 ],\n",
       "        [ 0.44163863, -0.36052133,  0.39657346],\n",
       "        [-0.27940403,  0.36052133,  0.39657346],\n",
       "        [-0.27940403,  0.18026067,  0.03605213],\n",
       "        [-0.27940403, -0.09013033,  0.2163128 ],\n",
       "        [ 0.17124763,  0.270391  , -0.3244692 ],\n",
       "        [-0.09914337, -0.36052133, -0.14420853]]))"
      ]
     },
     "execution_count": 97,
     "metadata": {},
     "output_type": "execute_result"
    }
   ],
   "source": [
    "Norm(3, xyz)"
   ]
  },
  {
   "cell_type": "code",
   "execution_count": null,
   "metadata": {},
   "outputs": [],
   "source": []
  },
  {
   "cell_type": "code",
   "execution_count": null,
   "metadata": {},
   "outputs": [],
   "source": []
  },
  {
   "cell_type": "code",
   "execution_count": null,
   "metadata": {},
   "outputs": [],
   "source": []
  }
 ],
 "metadata": {
  "interpreter": {
   "hash": "2cb84744a1a3dec1f0cb36b55e7222da6edc1f05d02af618d0e675a72b0ceb97"
  },
  "kernelspec": {
   "display_name": "Python 3.7.11 64-bit ('OpenCV_project': conda)",
   "language": "python",
   "name": "python3"
  },
  "language_info": {
   "codemirror_mode": {
    "name": "ipython",
    "version": 3
   },
   "file_extension": ".py",
   "mimetype": "text/x-python",
   "name": "python",
   "nbconvert_exporter": "python",
   "pygments_lexer": "ipython3",
   "version": "3.7.11"
  },
  "orig_nbformat": 4
 },
 "nbformat": 4,
 "nbformat_minor": 2
}
