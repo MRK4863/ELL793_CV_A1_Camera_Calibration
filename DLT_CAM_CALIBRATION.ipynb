{
 "cells": [
  {
   "cell_type": "markdown",
   "metadata": {},
   "source": [
    "# Assignment: 1 - Camera Calibration "
   ]
  },
  {
   "cell_type": "markdown",
   "metadata": {},
   "source": [
    "### Importing necessary libraries"
   ]
  },
  {
   "cell_type": "code",
   "execution_count": 73,
   "metadata": {},
   "outputs": [],
   "source": [
    "import numpy as np\n",
    "import pandas as pd\n",
    "from scipy import linalg\n"
   ]
  },
  {
   "cell_type": "code",
   "execution_count": 74,
   "metadata": {},
   "outputs": [],
   "source": [
    "np.set_printoptions(formatter={'float': lambda x: \"{0:0.3f}\".format(x)})\n",
    "\n",
    "def pretty_print(x):\n",
    "    x_shape = x.shape\n",
    "    for i in range(x_shape[0]):\n",
    "        for j in range(x_shape[1]):\n",
    "            if (j==(x_shape[1]-1)):\n",
    "                print(\"{:.4f}\".format(x[i][j]), end = \"\")\n",
    "            else:\n",
    "                print(\"{:.4f} & \".format(x[i][j]), end = \"\")\n",
    "        print('\\\\\\\\')"
   ]
  },
  {
   "cell_type": "markdown",
   "metadata": {},
   "source": [
    "### Normalization"
   ]
  },
  {
   "cell_type": "code",
   "execution_count": 75,
   "metadata": {},
   "outputs": [],
   "source": [
    "def Normalization(nd, x):\n",
    "    # CONVERTING TO NUMPY ARRAY\n",
    "    x = np.asarray(x)\n",
    "    # print(x)\n",
    "\n",
    "    # CALCULATING centroid and mean distance from centroid\n",
    "    m = np.mean(x, 0)\n",
    "    dist = np.mean(np.sqrt(np.sum(np.square(x - m))))\n",
    "\n",
    "    # NORMALIZATION MATRIX FOR WORLD POINTS(3D) AND IMAGE-PIXEL POINTS(2D)\n",
    "    if nd == 2:\n",
    "        s2D = np.sqrt(2) / dist\n",
    "        Tr = np.diag([s2D, s2D, 1])\n",
    "        Tr[0:2, 2] = -m * s2D\n",
    "\n",
    "    else:\n",
    "        s3D = np.sqrt(3) / dist\n",
    "        Tr = np.diag([s3D, s3D, s3D, 1])\n",
    "        Tr[0:3, 3] = -m * s3D\n",
    "\n",
    "    x = np.dot(Tr, np.concatenate((x.T, np.ones((1, x.shape[0])))))\n",
    "    x = x[0:nd, :].T\n",
    "\n",
    "    print(\"MEAN DISTANCE FROM CENTER : {}\".format(np.mean(np.sqrt(np.sum(np.square(x))))))\n",
    "\n",
    "    return Tr, x"
   ]
  },
  {
   "cell_type": "markdown",
   "metadata": {},
   "source": [
    "### DLT Camera Calibration"
   ]
  },
  {
   "cell_type": "code",
   "execution_count": 76,
   "metadata": {},
   "outputs": [],
   "source": [
    "def DLT_cam_calib(nd, xyz, img_pt_):\n",
    "\n",
    "    # Converting all variables to numpy array\n",
    "    xyz = np.asarray(xyz)\n",
    "    img_pt_ = np.asarray(img_pt_)\n",
    "\n",
    "    n = xyz.shape[0]\n",
    "\n",
    "    print(\"\\n\\nNUMBER OF POINTS: {}\\n\\n\".format(n))\n",
    "\n",
    "    Txyz, xyzn = Normalization(nd, xyz)\n",
    "    Timg_pt_, img_pt_n = Normalization(2, img_pt_)\n",
    "\n",
    "    A = []\n",
    "\n",
    "    for i in range(n):\n",
    "        x, y, z = xyzn[i, 0], xyzn[i, 1], xyzn[i, 2]\n",
    "        u, v = img_pt_n[i, 0], img_pt_n[i, 1]\n",
    "        A.append([x, y, z, 1, 0, 0, 0, 0, -u * x, -u * y, -u * z, -u])\n",
    "        A.append([0, 0, 0, 0, x, y, z, 1, -v * x, -v * y, -v * z, -v])\n",
    "\n",
    "    # Convert A to array\n",
    "    A = np.asarray(A)\n",
    "\n",
    "    # Find the 11 parameters:\n",
    "    U, S, V = np.linalg.svd(A)\n",
    "\n",
    "    # The parameters are in the last line of Vh and normalize them\n",
    "    L = V[-1, :] / V[-1, -1]\n",
    "\n",
    "    # Camera projection matrix\n",
    "    H = L.reshape(3, nd + 1)\n",
    "\n",
    "    # Denormalization\n",
    "    H_temp = np.dot(np.linalg.pinv(Timg_pt_), H)\n",
    "    H = np.dot(H_temp, Txyz)\n",
    "    H = H / H[-1, -1]\n",
    "    L = H.flatten()\n",
    "\n",
    "    # Mean error of the DLT (mean residual of the DLT transformation in units of camera coordinates):\n",
    "    img_pt_homo = np.concatenate((xyz.T, np.ones((1, xyz.shape[0]))))\n",
    "    img_pt_2 = np.dot(H, img_pt_homo)\n",
    "    img_pt_2 = img_pt_2 / img_pt_2[2, :]\n",
    "\n",
    "    # Mean distance:\n",
    "    projected_pts = img_pt_2.T\n",
    "    actual_pixels = img_pt_\n",
    "\n",
    "    # Printing teh actual and the estimated points\n",
    "    print('\\n\\nACTUAL PTS   |             ESTIMATED PTS')\n",
    "    for i in range(len(img_pt_2.T)):\n",
    "        print(\"{}   <---->  {}\".format(actual_pixels[i], projected_pts[i][0:2]))\n",
    "\n",
    "    err = np.sqrt(np.mean(np.sum(np.square((img_pt_2[0:2, :].T - img_pt_)), 1)))\n",
    "\n",
    "    return L, err, projected_pts[:,0:2]"
   ]
  },
  {
   "cell_type": "code",
   "execution_count": 77,
   "metadata": {},
   "outputs": [],
   "source": [
    "def get_intrest_points():\n",
    "\n",
    "    # WORLD CORDINATES\n",
    "    data = pd.read_excel(\"dataset.xlsx\")\n",
    "    x = np.array(data['X'])\n",
    "    y = np.array(data['Y'])\n",
    "    z = np.array(data['Z'])\n",
    "\n",
    "    # IMAGE PIXEL COORDINATES\n",
    "    u = np.array(data['x'])\n",
    "    v= np.array(data['y'])\n",
    "\n",
    "    # LIST OF WORLD PTS AND CORRESPONDING PIXEL PTS\n",
    "    world_pts = []\n",
    "    pixel_pts = []\n",
    "\n",
    "    for i in range(9):\n",
    "        world_pts.append([x[i], y[i], z[i]])\n",
    "        pixel_pts.append([u[i], v[i]])\n",
    "\n",
    "    print(\"DATA FRAME\")\n",
    "    print(data)\n",
    "\n",
    "    # from sklearn.utils import shuffle\n",
    "    # world_pts, pixel_pts = shuffle(world_pts, pixel_pts, random_state = 0)\n",
    "\n",
    "    print(\"\\n\\nWORLD points\")\n",
    "    print(world_pts)\n",
    "    return world_pts, pixel_pts\n",
    "   "
   ]
  },
  {
   "cell_type": "markdown",
   "metadata": {},
   "source": [
    "### RQ Decomposition "
   ]
  },
  {
   "cell_type": "code",
   "execution_count": 78,
   "metadata": {},
   "outputs": [],
   "source": [
    "def RQ_decomposition(P):\n",
    "    M = P[0:3,0:3]\n",
    "    print(\"\\nM:\\n\",M)\n",
    "    K, R = linalg.rq(M)\n",
    "    T = np.diag(np.sign(np.diag(K)))\n",
    "    print(T)\n",
    "\n",
    "    K = np.dot(K, T)\n",
    "    R = np.dot(T, R)\n",
    "    C = np.dot(linalg.inv(-M), P[:, 3])\n",
    "    return K, R, C\n"
   ]
  },
  {
   "cell_type": "code",
   "execution_count": 79,
   "metadata": {},
   "outputs": [],
   "source": [
    "    def camera_param(P):\n",
    "        print(\"\\nP:\\n\",P)\n",
    "\n",
    "        K, R, C = RQ_decomposition(P)\n",
    "\n",
    "        print(\"\\n\\n K MATRIX: \")\n",
    "        print(K)\n",
    "        #pretty_print(K)\n",
    "\n",
    "        print(\"\\n\\n R MATRIX: \")\n",
    "        print(R)\n",
    "        #pretty_print(R)\n",
    "\n",
    "        print(\"\\n\\n Camera center: \")\n",
    "        print(C)\n",
    "        #pretty_print(C)\n",
    "\n",
    "        print(\"\\n\\n Normalized camera matrix: \")\n",
    "        print(K/K[2][2])\n",
    "        #pretty_print(K/K[2][2])\n"
   ]
  },
  {
   "cell_type": "code",
   "execution_count": 80,
   "metadata": {},
   "outputs": [],
   "source": [
    "#camera_param(P)"
   ]
  },
  {
   "cell_type": "code",
   "execution_count": 81,
   "metadata": {},
   "outputs": [
    {
     "name": "stdout",
     "output_type": "stream",
     "text": [
      "DATA FRAME\n",
      "       X     Y   Z    x     y  Unnamed: 5\n",
      "0   20.0   0.0   0  708   991           1\n",
      "1    0.0  20.0   0  213   998           2\n",
      "2    0.0   0.0  20  455   597           3\n",
      "3   20.0  20.0   0  464  1192           4\n",
      "4   20.0   0.0  20  727   658           5\n",
      "5    0.0  20.0  20  182   665           6\n",
      "6    0.0  15.0  10  279   810           7\n",
      "7    0.0   7.5  15  373   699           8\n",
      "8   12.5  17.5   0  396  1082           9\n",
      "9    5.0   0.0   5  516   828          10\n",
      "10  10.0  10.0   0  463   998          11\n",
      "11  10.0   0.0  10  576   779          12\n",
      "12   0.0  10.0  10  343   784          13\n",
      "13   0.0   0.0   0  463   874          14\n",
      "14  15.0  10.0   0  529  1038          15\n",
      "15  15.0   0.0  10  642   805          16\n",
      "16  25.0   0.0  25  829   576          17\n",
      "17   0.0  25.0  25   76   586          18\n",
      "\n",
      "\n",
      "WORLD points\n",
      "[[20.0, 0.0, 0], [0.0, 20.0, 0], [0.0, 0.0, 20], [20.0, 20.0, 0], [20.0, 0.0, 20], [0.0, 20.0, 20], [0.0, 15.0, 10], [0.0, 7.5, 15], [12.5, 17.5, 0]]\n",
      "\n",
      "\n",
      "NUMBER OF POINTS: 9\n",
      "\n",
      "\n",
      "MEAN DISTANCE FROM CENTER : 1.7320508075688772\n",
      "MEAN DISTANCE FROM CENTER : 1.414213562373095\n",
      "\n",
      "\n",
      "ACTUAL PTS   |             ESTIMATED PTS\n",
      "[708 991]   <---->  [708.309 990.454]\n",
      "[213 998]   <---->  [215.310 998.792]\n",
      "[455 597]   <---->  [456.252 597.780]\n",
      "[ 464 1192]   <---->  [465.137 1192.347]\n",
      "[727 658]   <---->  [726.954 658.575]\n",
      "[182 665]   <---->  [183.009 664.390]\n",
      "[279 810]   <---->  [276.286 810.541]\n",
      "[373 699]   <---->  [371.846 697.567]\n",
      "[ 396 1082]   <---->  [393.957 1081.575]\n"
     ]
    }
   ],
   "source": [
    "\n",
    "xyz, img_pt_ = get_intrest_points()\n",
    "nd = 3\n",
    "P, err, projected_pts = DLT_cam_calib(nd, xyz, img_pt_)\n",
    "P = P.reshape(3,4)"
   ]
  },
  {
   "cell_type": "markdown",
   "metadata": {},
   "source": [
    "### Projection matrix (P)"
   ]
  },
  {
   "cell_type": "code",
   "execution_count": 82,
   "metadata": {},
   "outputs": [
    {
     "name": "stdout",
     "output_type": "stream",
     "text": [
      "Matrix\n",
      "[[5.718 -14.406 -1.994 461.588]\n",
      " [-3.344 -3.377 -15.986 872.241]\n",
      " [-0.009 -0.010 -0.004 1.000]]\n"
     ]
    }
   ],
   "source": [
    "print('Matrix')\n",
    "print(P)\n",
    "#pretty_print(P)"
   ]
  },
  {
   "cell_type": "markdown",
   "metadata": {},
   "source": [
    "### RMSE"
   ]
  },
  {
   "cell_type": "code",
   "execution_count": 83,
   "metadata": {},
   "outputs": [
    {
     "name": "stdout",
     "output_type": "stream",
     "text": [
      "\n",
      "Error\n",
      "1.734339964635972\n"
     ]
    }
   ],
   "source": [
    "print('\\nError')\n",
    "print(err)"
   ]
  },
  {
   "cell_type": "markdown",
   "metadata": {},
   "source": [
    "### Camera Parameters"
   ]
  },
  {
   "cell_type": "code",
   "execution_count": 84,
   "metadata": {},
   "outputs": [
    {
     "name": "stdout",
     "output_type": "stream",
     "text": [
      "\n",
      "P:\n",
      " [[5.718 -14.406 -1.994 461.588]\n",
      " [-3.344 -3.377 -15.986 872.241]\n",
      " [-0.009 -0.010 -0.004 1.000]]\n",
      "\n",
      "M:\n",
      " [[5.718 -14.406 -1.994]\n",
      " [-3.344 -3.377 -15.986]\n",
      " [-0.009 -0.010 -0.004]]\n",
      "[[1.000 0.000 0.000]\n",
      " [0.000 -1.000 0.000]\n",
      " [0.000 0.000 1.000]]\n",
      "\n",
      "\n",
      " K MATRIX: \n",
      "[[14.108 0.114 6.720]\n",
      " [0.000 14.106 8.897]\n",
      " [0.000 0.000 0.014]]\n",
      "\n",
      "\n",
      " R MATRIX: \n",
      "[[0.722 -0.692 -0.005]\n",
      " [0.184 0.198 -0.963]\n",
      " [-0.667 -0.694 -0.270]]\n",
      "\n",
      "\n",
      " Camera center: \n",
      "[45.613 45.237 35.464]\n",
      "\n",
      "\n",
      " Normalized camera matrix: \n",
      "[[1007.552 8.169 479.973]\n",
      " [0.000 1007.443 635.453]\n",
      " [0.000 0.000 1.000]]\n"
     ]
    }
   ],
   "source": [
    "camera_param(P.reshape(3,4))"
   ]
  }
 ],
 "metadata": {
  "interpreter": {
   "hash": "2cb84744a1a3dec1f0cb36b55e7222da6edc1f05d02af618d0e675a72b0ceb97"
  },
  "kernelspec": {
   "display_name": "Python 3.7.11 64-bit ('OpenCV_project': conda)",
   "language": "python",
   "name": "python3"
  },
  "language_info": {
   "codemirror_mode": {
    "name": "ipython",
    "version": 3
   },
   "file_extension": ".py",
   "mimetype": "text/x-python",
   "name": "python",
   "nbconvert_exporter": "python",
   "pygments_lexer": "ipython3",
   "version": "3.7.11"
  },
  "orig_nbformat": 4
 },
 "nbformat": 4,
 "nbformat_minor": 2
}
