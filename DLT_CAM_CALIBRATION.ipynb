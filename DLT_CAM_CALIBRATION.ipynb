{
 "cells": [
  {
   "cell_type": "markdown",
   "metadata": {},
   "source": [
    "# Assignment: 1 - Camera Calibration "
   ]
  },
  {
   "cell_type": "markdown",
   "metadata": {},
   "source": [
    "### Importing necessary libraries"
   ]
  },
  {
   "cell_type": "code",
   "execution_count": 45,
   "metadata": {},
   "outputs": [],
   "source": [
    "import numpy as np\n",
    "import pandas as pd\n",
    "from scipy import linalg"
   ]
  },
  {
   "cell_type": "markdown",
   "metadata": {},
   "source": [
    "### Normalization"
   ]
  },
  {
   "cell_type": "code",
   "execution_count": 46,
   "metadata": {},
   "outputs": [],
   "source": [
    "def Normalization(nd, x):\n",
    "    '''\n",
    "    Normalization of coordinates (centroid to the origin and mean distance of sqrt(2 or 3).\n",
    "\n",
    "    Input\n",
    "    -----\n",
    "    nd: number of dimensions, 3 here\n",
    "    x: the data to be normalized (directions at different columns and points at rows)\n",
    "    Output\n",
    "    ------\n",
    "    Tr: the transformation matrix (translation plus scaling)\n",
    "    x: the transformed data\n",
    "    '''\n",
    "\n",
    "    #CONVERTING TO NUMPY ARRAY\n",
    "    x = np.asarray(x)\n",
    "\n",
    "    #CALCULATING MEAN AND STANDAR DEVIATION\n",
    "    m, s = np.mean(x, 0), np.std(x)\n",
    "\n",
    "    print(\"mean = \", m, \"std = \", s)\n",
    "\n",
    "    #NORMALIZATION MATRIX FOR WORLD POINTS(3D) AND IMAGE-PIXEL POINTS(2D)\n",
    "    if nd == 2:\n",
    "        Tr = np.array([[s, 0, m[0]], [0, s, m[1]], [0, 0, 1]])\n",
    "    else:\n",
    "        Tr = np.array([[s, 0, 0, m[0]], [0, s, 0, m[1]], [0, 0, s, m[2]], [0, 0, 0, 1]])\n",
    "        \n",
    "    Tr = np.linalg.inv(Tr)\n",
    "    x = np.dot( Tr, np.concatenate( (x.T, np.ones((1,x.shape[0]))) ) )\n",
    "    x = x[0:nd, :].T\n",
    "\n",
    "    return Tr, x"
   ]
  },
  {
   "cell_type": "markdown",
   "metadata": {},
   "source": [
    "### DLT Camera Calibration"
   ]
  },
  {
   "cell_type": "code",
   "execution_count": 47,
   "metadata": {},
   "outputs": [],
   "source": [
    "def DLTcalib(nd, xyz, img_pt_):\n",
    "    '''\n",
    "    Camera calibration by DLT using known object points and their image points.\n",
    "\n",
    "    Input\n",
    "    -----\n",
    "    nd: dimensions of the object space, 3 here.\n",
    "    xyz: coordinates in the object 3D space.\n",
    "    img_pt_: coordinates in the image 2D space.\n",
    "\n",
    "    The coordinates (x,y,z and u,v) are given as columns and the different points as rows.\n",
    "\n",
    "    There must be at least 6 calibration points for the 3D DLT.\n",
    "\n",
    "    Output\n",
    "    ------\n",
    "     L: array of 11 parameters of the calibration matrix.\n",
    "     err: error of the DLT (mean residual of the DLT transformation in units of camera coordinates).\n",
    "    '''\n",
    "    if (nd != 3):\n",
    "        raise ValueError('%dD DLT unsupported.' %(nd))\n",
    "    \n",
    "    # Converting all variables to numpy array\n",
    "    xyz = np.asarray(xyz)\n",
    "    img_pt_ = np.asarray(img_pt_)\n",
    "\n",
    "    n = xyz.shape[0]\n",
    "\n",
    "    print(\"\\n\\nNUMBER OF POINTS: {}\\n\\n\".format(n))\n",
    "    # Validating the parameters:\n",
    "    if img_pt_.shape[0] != n:\n",
    "        raise ValueError('Object (%d points) and image (%d points) have different number of points.' %(n, img_pt_.shape[0]))\n",
    "\n",
    "    if (xyz.shape[1] != 3):\n",
    "        raise ValueError('Incorrect number of coordinates (%d) for %dD DLT (it should be %d).' %(xyz.shape[1],nd,nd))\n",
    "\n",
    "    if (n < 6):\n",
    "        raise ValueError('%dD DLT requires at least %d calibration points. Only %d points were entered.' %(nd, 2*nd, n))\n",
    "        \n",
    "    # Normalize the data to improve the DLT quality (DLT is dependent of the system of coordinates).\n",
    "    # This is relevant when there is a considerable perspective distortion.\n",
    "    # Normalization: mean position at origin and mean distance equals to 1 at each direction.\n",
    "    Txyz, xyzn = Normalization(nd, xyz)\n",
    "    Timg_pt_, img_pt_n = Normalization(2, img_pt_)\n",
    "\n",
    "    A = []\n",
    "\n",
    "    for i in range(n):\n",
    "        x, y, z = xyzn[i, 0], xyzn[i, 1], xyzn[i, 2]\n",
    "        u, v = img_pt_n[i, 0], img_pt_n[i, 1]\n",
    "        A.append( [x, y, z, 1, 0, 0, 0, 0, -u * x, -u * y, -u * z, -u] )\n",
    "        A.append( [0, 0, 0, 0, x, y, z, 1, -v * x, -v * y, -v * z, -v] )\n",
    "\n",
    "    # Convert A to array\n",
    "    A = np.asarray(A) \n",
    "\n",
    "    # Find the 11 parameters:\n",
    "    U, S, V = np.linalg.svd(A)\n",
    "\n",
    "    # The parameters are in the last line of Vh and normalize them\n",
    "    L = V[-1, :] / V[-1, -1]\n",
    "\n",
    "    # Camera projection matrix\n",
    "    H = L.reshape(3, nd + 1)\n",
    "\n",
    "\n",
    "    # Denormalization\n",
    "    H = np.dot( np.dot( np.linalg.pinv(Timg_pt_), H ), Txyz )\n",
    "    H = H / H[-1, -1]\n",
    "    L = H.flatten()\n",
    "\n",
    "    # Mean error of the DLT (mean residual of the DLT transformation in units of camera coordinates):\n",
    "    img_pt_2 = np.dot( H, np.concatenate( (xyz.T, np.ones((1, xyz.shape[0]))) ) ) \n",
    "    img_pt_2 = img_pt_2 / img_pt_2[2, :] \n",
    "\n",
    "    # Mean distance:\n",
    "    projected_pts = img_pt_2.T\n",
    "    actual_pixels = img_pt_\n",
    "\n",
    "    # Printing teh actual and the estimated points\n",
    "    print('\\n\\nACTUAL PTS   |             ESTIMATED PTS')\n",
    "    for i in range(len(img_pt_2.T)):\n",
    "        print(\"{}   <---->  {}\".format(actual_pixels[i], projected_pts[i]))\n",
    "\n",
    "    err = np.sqrt( np.mean(np.sum( (img_pt_2[0:2, :].T - img_pt_)**2, 1)) ) \n",
    "\n",
    "    return L, err"
   ]
  },
  {
   "cell_type": "code",
   "execution_count": 48,
   "metadata": {},
   "outputs": [],
   "source": [
    "def get_intrest_points():\n",
    "\n",
    "    # WORLD CORDINATES\n",
    "    data = pd.read_excel(\"dataset.xlsx\")\n",
    "    x = np.array(data['X'])\n",
    "    y = np.array(data['Y'])\n",
    "    z = np.array(data['Z'])\n",
    "\n",
    "    # IMAGE PIXEL COORDINATES\n",
    "    u = np.array(data['x'])\n",
    "    v= np.array(data['y'])\n",
    "\n",
    "    # LIST OF WORLD PTS AND CORRESPONDING PIXEL PTS\n",
    "    world_pts = []\n",
    "    pixel_pts = []\n",
    "\n",
    "    for i in range(len(x)):\n",
    "        world_pts.append([x[i], y[i], z[i]])\n",
    "        pixel_pts.append([u[i], v[i]])\n",
    "\n",
    "    print(\"DATA FRAME\")\n",
    "    print(data)\n",
    "\n",
    "    from sklearn.utils import shuffle\n",
    "    world_pts, pixel_pts = shuffle(world_pts, pixel_pts, random_state = 0)\n",
    "\n",
    "    print(\"\\n\\nWORLD points\")\n",
    "    print(world_pts)\n",
    "    return world_pts, pixel_pts\n",
    "   "
   ]
  },
  {
   "cell_type": "markdown",
   "metadata": {},
   "source": [
    "### RQ Decomposition "
   ]
  },
  {
   "cell_type": "code",
   "execution_count": 49,
   "metadata": {},
   "outputs": [],
   "source": [
    "def RQ_decomposition(P):\n",
    "    M = P[0:3,0:3]\n",
    "    print(\"\\nM:\\n\",M)\n",
    "    K, R = linalg.rq(M)\n",
    "    T = np.diag(np.sign(np.diag(K)))\n",
    "    print(T)\n",
    "\n",
    "    K = np.dot(K, T)\n",
    "    R = np.dot(T, R)\n",
    "    C = np.dot(linalg.inv(-M), P[:, 3])\n",
    "    return K, R, C\n"
   ]
  },
  {
   "cell_type": "code",
   "execution_count": 50,
   "metadata": {},
   "outputs": [],
   "source": [
    "def camera_param(P):\n",
    "    print(\"\\nP:\\n\",P)\n",
    "\n",
    "    K, R, C = RQ_decomposition(P)\n",
    "\n",
    "    print(\"\\n\\n K MATRIX: \")\n",
    "    print(K)\n",
    "    print(\"\\n\\n R MATRIX: \")\n",
    "    print(R)\n",
    "    print(\"\\n\\n Camera center: \")\n",
    "    print(C)\n",
    "\n",
    "    print(\"\\n\\n Normalized camera matrix: \")\n",
    "    print(K/K[2][2])\n"
   ]
  },
  {
   "cell_type": "code",
   "execution_count": 51,
   "metadata": {},
   "outputs": [],
   "source": [
    "#camera_param(P)"
   ]
  },
  {
   "cell_type": "code",
   "execution_count": 52,
   "metadata": {},
   "outputs": [
    {
     "name": "stdout",
     "output_type": "stream",
     "text": [
      "[20.   0.   0.  20.  20.   0.   0.   0.  12.5  5.  10.  10.   0.   0.\n",
      " 15.  15.  25.   0. ]\n",
      "[ 0.  20.   0.  20.   0.  20.  15.   7.5 17.5  0.  10.   0.  10.   0.\n",
      " 10.   0.   0.  25. ]\n",
      "[ 0  0 20  0 20 20 10 15  0  5  0 10 10  0  0 10 25 25]\n",
      "\n",
      "[708 213 455 464 727 182 279 373 396 516 463 576 343 463 529 642 829  76]\n",
      "[ 991  998  597 1192  658  665  810  699 1082  828  998  779  784  874\n",
      " 1038  805  576  586]\n",
      "DATA FRAME\n",
      "       X     Y   Z    x     y  Unnamed: 5\n",
      "0   20.0   0.0   0  708   991           1\n",
      "1    0.0  20.0   0  213   998           2\n",
      "2    0.0   0.0  20  455   597           3\n",
      "3   20.0  20.0   0  464  1192           4\n",
      "4   20.0   0.0  20  727   658           5\n",
      "5    0.0  20.0  20  182   665           6\n",
      "6    0.0  15.0  10  279   810           7\n",
      "7    0.0   7.5  15  373   699           8\n",
      "8   12.5  17.5   0  396  1082           9\n",
      "9    5.0   0.0   5  516   828          10\n",
      "10  10.0  10.0   0  463   998          11\n",
      "11  10.0   0.0  10  576   779          12\n",
      "12   0.0  10.0  10  343   784          13\n",
      "13   0.0   0.0   0  463   874          14\n",
      "14  15.0  10.0   0  529  1038          15\n",
      "15  15.0   0.0  10  642   805          16\n",
      "16  25.0   0.0  25  829   576          17\n",
      "17   0.0  25.0  25   76   586          18\n",
      "\n",
      "\n",
      "WORLD points\n",
      "[[20.0, 0.0, 0], [0.0, 20.0, 0], [0.0, 0.0, 20], [20.0, 20.0, 0], [20.0, 0.0, 20], [0.0, 20.0, 20], [0.0, 15.0, 10], [0.0, 7.5, 15], [12.5, 17.5, 0], [5.0, 0.0, 5], [10.0, 10.0, 0], [10.0, 0.0, 10], [0.0, 10.0, 10], [0.0, 0.0, 0], [15.0, 10.0, 0], [15.0, 0.0, 10], [25.0, 0.0, 25], [0.0, 25.0, 25]]\n",
      "\n",
      "\n",
      "NUMBER OF POINTS: 18\n",
      "\n",
      "\n",
      "mean =  [8.47222222 8.61111111 9.44444444] std =  8.867765217073032\n",
      "mean =  [457.44444444 831.11111111] std =  263.73541150924467\n",
      "\n",
      "\n",
      "ACTUAL PTS   |             ESTIMATED PTS\n",
      "[708 991]   <---->  [709.69656    991.35271471   1.        ]\n",
      "[213 998]   <---->  [215.49303798 999.6720235    1.        ]\n",
      "[455 597]   <---->  [456.68306684 596.53308438   1.        ]\n",
      "[ 464 1192]   <---->  [4.64384228e+02 1.19342577e+03 1.00000000e+00]\n",
      "[727 658]   <---->  [728.19035802 657.05380378   1.        ]\n",
      "[182 665]   <---->  [182.19282105 664.34525019   1.        ]\n",
      "[279 810]   <---->  [276.12673097 810.90408501   1.        ]\n",
      "[373 699]   <---->  [371.87729822 697.22131219   1.        ]\n",
      "[ 396 1082]   <---->  [3.93707394e+02 1.08257340e+03 1.00000000e+00]\n",
      "[516 828]   <---->  [514.82084926 830.25677169   1.        ]\n",
      "[463 998]   <---->  [463.22914665 995.50169064   1.        ]\n",
      "[576 779]   <---->  [575.10256971 781.32300907   1.        ]\n",
      "[343 784]   <---->  [344.10564452 784.70148759   1.        ]\n",
      "[463 874]   <---->  [462.51258391 872.71807208   1.        ]\n",
      "[ 529 1038]   <---->  [5.29037725e+02 1.03461556e+03 1.00000000e+00]\n",
      "[642 805]   <---->  [642.69409951 805.44698658   1.        ]\n",
      "[829 576]   <---->  [827.42378019 576.50094814   1.        ]\n",
      "[ 76 586]   <---->  [ 76.67071887 585.90647734   1.        ]\n"
     ]
    }
   ],
   "source": [
    "\n",
    "xyz, img_pt_ = get_intrest_points()\n",
    "nd = 3\n",
    "P, err = DLTcalib(nd, xyz, img_pt_)\n",
    "\n",
    "P = P.reshape(3,4)"
   ]
  },
  {
   "cell_type": "markdown",
   "metadata": {},
   "source": [
    "### Projection matrix (P)"
   ]
  },
  {
   "cell_type": "code",
   "execution_count": 53,
   "metadata": {},
   "outputs": [
    {
     "name": "stdout",
     "output_type": "stream",
     "text": [
      "Matrix\n",
      "[[ 5.69722141e+00 -1.44186467e+01 -2.04509681e+00  4.62512584e+02]\n",
      " [-3.37417373e+00 -3.24421920e+00 -1.60998815e+01  8.72718072e+02]\n",
      " [-9.38707861e-03 -9.59506372e-03 -3.83990800e-03  1.00000000e+00]]\n"
     ]
    }
   ],
   "source": [
    "print('Matrix')\n",
    "print(P)"
   ]
  },
  {
   "cell_type": "markdown",
   "metadata": {},
   "source": [
    "### RMSE"
   ]
  },
  {
   "cell_type": "code",
   "execution_count": 54,
   "metadata": {},
   "outputs": [
    {
     "name": "stdout",
     "output_type": "stream",
     "text": [
      "\n",
      "Error\n",
      "2.0684280927800307\n"
     ]
    }
   ],
   "source": [
    "print('\\nError')\n",
    "print(err)"
   ]
  },
  {
   "cell_type": "markdown",
   "metadata": {},
   "source": [
    "### Camera Parameters"
   ]
  },
  {
   "cell_type": "code",
   "execution_count": 55,
   "metadata": {},
   "outputs": [
    {
     "name": "stdout",
     "output_type": "stream",
     "text": [
      "\n",
      "P:\n",
      " [[ 5.69722141e+00 -1.44186467e+01 -2.04509681e+00  4.62512584e+02]\n",
      " [-3.37417373e+00 -3.24421920e+00 -1.60998815e+01  8.72718072e+02]\n",
      " [-9.38707861e-03 -9.59506372e-03 -3.83990800e-03  1.00000000e+00]]\n",
      "\n",
      "M:\n",
      " [[ 5.69722141e+00 -1.44186467e+01 -2.04509681e+00]\n",
      " [-3.37417373e+00 -3.24421920e+00 -1.60998815e+01]\n",
      " [-9.38707861e-03 -9.59506372e-03 -3.83990800e-03]]\n",
      "[[ 1.  0.  0.]\n",
      " [ 0. -1.  0.]\n",
      " [ 0.  0.  1.]]\n",
      "\n",
      "\n",
      " K MATRIX: \n",
      "[[1.41572193e+01 8.45505830e-02 6.64109330e+00]\n",
      " [0.00000000e+00 1.41929350e+01 8.92618558e+00]\n",
      " [0.00000000e+00 0.00000000e+00 1.39616398e-02]]\n",
      "\n",
      "\n",
      " R MATRIX: \n",
      "[[ 0.71671523 -0.69729852 -0.00969774]\n",
      " [ 0.1851152   0.2036404  -0.96138595]\n",
      " [-0.67234786 -0.68724475 -0.27503274]]\n",
      "\n",
      "\n",
      " Camera center: \n",
      "[45.8491945  45.15883126 35.49776286]\n",
      "Normalized camera matrix: \n",
      "[[1.01400834e+03 6.05592067e+00 4.75667142e+02]\n",
      " [0.00000000e+00 1.01656648e+03 6.39336475e+02]\n",
      " [0.00000000e+00 0.00000000e+00 1.00000000e+00]]\n"
     ]
    }
   ],
   "source": [
    "camera_param(P.reshape(3,4))"
   ]
  },
  {
   "cell_type": "code",
   "execution_count": null,
   "metadata": {},
   "outputs": [],
   "source": []
  },
  {
   "cell_type": "code",
   "execution_count": null,
   "metadata": {},
   "outputs": [],
   "source": []
  }
 ],
 "metadata": {
  "interpreter": {
   "hash": "2cb84744a1a3dec1f0cb36b55e7222da6edc1f05d02af618d0e675a72b0ceb97"
  },
  "kernelspec": {
   "display_name": "Python 3.7.11 64-bit ('OpenCV_project': conda)",
   "language": "python",
   "name": "python3"
  },
  "language_info": {
   "codemirror_mode": {
    "name": "ipython",
    "version": 3
   },
   "file_extension": ".py",
   "mimetype": "text/x-python",
   "name": "python",
   "nbconvert_exporter": "python",
   "pygments_lexer": "ipython3",
   "version": "3.8.8"
  },
  "orig_nbformat": 4
 },
 "nbformat": 4,
 "nbformat_minor": 2
}
