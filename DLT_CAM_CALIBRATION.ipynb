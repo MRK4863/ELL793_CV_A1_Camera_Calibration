{
 "cells": [
  {
   "cell_type": "markdown",
   "metadata": {},
   "source": [
    "# Assignment: 1 - Camera Calibration "
   ]
  },
  {
   "cell_type": "markdown",
   "metadata": {},
   "source": [
    "### Importing necessary libraries"
   ]
  },
  {
   "cell_type": "code",
   "execution_count": 234,
   "metadata": {},
   "outputs": [],
   "source": [
    "import numpy as np\n",
    "import pandas as pd\n",
    "from scipy import linalg"
   ]
  },
  {
   "cell_type": "markdown",
   "metadata": {},
   "source": [
    "### Normalization"
   ]
  },
  {
   "cell_type": "code",
   "execution_count": 235,
   "metadata": {},
   "outputs": [],
   "source": [
    "def Normalization(nd, x):\n",
    "    # CONVERTING TO NUMPY ARRAY\n",
    "    x = np.asarray(x)\n",
    "    # print(x)\n",
    "\n",
    "    # CALCULATING centroid and mean distance from centroid\n",
    "    m = np.mean(x, 0)\n",
    "    dist = np.mean(np.sqrt(np.sum(np.square(x - m))))\n",
    "\n",
    "    # NORMALIZATION MATRIX FOR WORLD POINTS(3D) AND IMAGE-PIXEL POINTS(2D)\n",
    "    if nd == 2:\n",
    "        s2D = np.sqrt(2) / dist\n",
    "        Tr = np.diag([s2D, s2D, 1])\n",
    "        Tr[0:2, 2] = -m * s2D\n",
    "\n",
    "    else:\n",
    "        s3D = np.sqrt(3) / dist\n",
    "        Tr = np.diag([s3D, s3D, s3D, 1])\n",
    "        Tr[0:3, 3] = -m * s3D\n",
    "\n",
    "    x = np.dot(Tr, np.concatenate((x.T, np.ones((1, x.shape[0])))))\n",
    "    x = x[0:nd, :].T\n",
    "\n",
    "    print(\"MEAN DISTANCE FROM CENTER : {}\".format(np.mean(np.sqrt(np.sum(np.square(x))))))\n",
    "\n",
    "    return Tr, x"
   ]
  },
  {
   "cell_type": "markdown",
   "metadata": {},
   "source": [
    "### DLT Camera Calibration"
   ]
  },
  {
   "cell_type": "code",
   "execution_count": 236,
   "metadata": {},
   "outputs": [],
   "source": [
    "def DLTcalib(nd, xyz, img_pt_):\n",
    "\n",
    "    if (nd != 3):\n",
    "        raise ValueError('%dD DLT unsupported.' %(nd))\n",
    "    \n",
    "    # Converting all variables to numpy array\n",
    "    xyz = np.asarray(xyz)\n",
    "    img_pt_ = np.asarray(img_pt_)\n",
    "\n",
    "    n = xyz.shape[0]\n",
    "\n",
    "    print(\"\\n\\nNUMBER OF POINTS: {}\\n\\n\".format(n))\n",
    "    # Validating the parameters:\n",
    "    if img_pt_.shape[0] != n:\n",
    "        raise ValueError('Object (%d points) and image (%d points) have different number of points.' %(n, img_pt_.shape[0]))\n",
    "\n",
    "    if (xyz.shape[1] != 3):\n",
    "        raise ValueError('Incorrect number of coordinates (%d) for %dD DLT (it should be %d).' %(xyz.shape[1],nd,nd))\n",
    "\n",
    "    if (n < 6):\n",
    "        raise ValueError('%dD DLT requires at least %d calibration points. Only %d points were entered.' %(nd, 2*nd, n))\n",
    "        \n",
    "    # Normalize the data to improve the DLT quality (DLT is dependent of the system of coordinates).\n",
    "    # This is relevant when there is a considerable perspective distortion.\n",
    "    # Normalization: mean position at origin and mean distance equals to 1 at each direction.\n",
    "    Txyz, xyzn = Norm(nd, xyz)\n",
    "    Timg_pt_, img_pt_n = Norm(2, img_pt_)\n",
    "\n",
    "    A = []\n",
    "\n",
    "    for i in range(n):\n",
    "        x, y, z = xyzn[i, 0], xyzn[i, 1], xyzn[i, 2]\n",
    "        u, v = img_pt_n[i, 0], img_pt_n[i, 1]\n",
    "        A.append( [x, y, z, 1, 0, 0, 0, 0, -u * x, -u * y, -u * z, -u] )\n",
    "        A.append( [0, 0, 0, 0, x, y, z, 1, -v * x, -v * y, -v * z, -v] )\n",
    "\n",
    "    # Convert A to array\n",
    "    A = np.asarray(A) \n",
    "\n",
    "    # Find the 11 parameters:\n",
    "    U, S, V = np.linalg.svd(A)\n",
    "\n",
    "    # The parameters are in the last line of Vh and normalize them\n",
    "    L = V[-1, :] / V[-1, -1]\n",
    "\n",
    "    # Camera projection matrix\n",
    "    H = L.reshape(3, nd + 1)\n",
    "\n",
    "\n",
    "    # Denormalization\n",
    "    H = np.dot( np.dot( np.linalg.pinv(Timg_pt_), H ), Txyz )\n",
    "    H = H / H[-1, -1]\n",
    "    L = H.flatten()\n",
    "\n",
    "    # Mean error of the DLT (mean residual of the DLT transformation in units of camera coordinates):\n",
    "    img_pt_2 = np.dot( H, np.concatenate( (xyz.T, np.ones((1, xyz.shape[0]))) ) ) \n",
    "    img_pt_2 = img_pt_2 / img_pt_2[2, :] \n",
    "\n",
    "    # Mean distance:\n",
    "    projected_pts = img_pt_2.T\n",
    "    actual_pixels = img_pt_\n",
    "\n",
    "    # Printing teh actual and the estimated points\n",
    "    print('\\n\\nACTUAL PTS   |             ESTIMATED PTS')\n",
    "    for i in range(len(img_pt_2.T)):\n",
    "        print(\"{}   <---->  {}\".format(actual_pixels[i], projected_pts[i]))\n",
    "\n",
    "    err = np.sqrt( np.mean(np.sum( (img_pt_2[0:2, :].T - img_pt_)**2, 1)) ) \n",
    "\n",
    "    return L, err"
   ]
  },
  {
   "cell_type": "code",
   "execution_count": 237,
   "metadata": {},
   "outputs": [],
   "source": [
    "def get_intrest_points():\n",
    "\n",
    "    # WORLD CORDINATES\n",
    "    data = pd.read_excel(\"dataset.xlsx\")\n",
    "    x = np.array(data['X'])\n",
    "    y = np.array(data['Y'])\n",
    "    z = np.array(data['Z'])\n",
    "\n",
    "    # IMAGE PIXEL COORDINATES\n",
    "    u = np.array(data['x'])\n",
    "    v= np.array(data['y'])\n",
    "\n",
    "    # LIST OF WORLD PTS AND CORRESPONDING PIXEL PTS\n",
    "    world_pts = []\n",
    "    pixel_pts = []\n",
    "\n",
    "    for i in range(len(x)):\n",
    "        world_pts.append([x[i], y[i], z[i]])\n",
    "        pixel_pts.append([u[i], v[i]])\n",
    "\n",
    "    print(\"DATA FRAME\")\n",
    "    print(data)\n",
    "\n",
    "    # from sklearn.utils import shuffle\n",
    "    # world_pts, pixel_pts = shuffle(world_pts, pixel_pts, random_state = 0)\n",
    "\n",
    "    print(\"\\n\\nWORLD points\")\n",
    "    print(world_pts)\n",
    "    return world_pts, pixel_pts\n",
    "   "
   ]
  },
  {
   "cell_type": "markdown",
   "metadata": {},
   "source": [
    "### RQ Decomposition "
   ]
  },
  {
   "cell_type": "code",
   "execution_count": 238,
   "metadata": {},
   "outputs": [],
   "source": [
    "def RQ_decomposition(P):\n",
    "    M = P[0:3,0:3]\n",
    "    print(\"\\nM:\\n\",M)\n",
    "    K, R = linalg.rq(M)\n",
    "    T = np.diag(np.sign(np.diag(K)))\n",
    "    print(T)\n",
    "\n",
    "    K = np.dot(K, T)\n",
    "    R = np.dot(T, R)\n",
    "    C = np.dot(linalg.inv(-M), P[:, 3])\n",
    "    return K, R, C\n"
   ]
  },
  {
   "cell_type": "code",
   "execution_count": 239,
   "metadata": {},
   "outputs": [],
   "source": [
    "    def camera_param(P):\n",
    "        print(\"\\nP:\\n\",P)\n",
    "\n",
    "        K, R, C = RQ_decomposition(P)\n",
    "\n",
    "        print(\"\\n\\n K MATRIX: \")\n",
    "        print(K)\n",
    "        print(\"\\n\\n R MATRIX: \")\n",
    "        print(R)\n",
    "        print(\"\\n\\n Camera center: \")\n",
    "        print(C)\n",
    "\n",
    "        print(\"\\n\\n Normalized camera matrix: \")\n",
    "        print(K/K[2][2])\n"
   ]
  },
  {
   "cell_type": "code",
   "execution_count": 240,
   "metadata": {},
   "outputs": [],
   "source": [
    "#camera_param(P)"
   ]
  },
  {
   "cell_type": "code",
   "execution_count": 241,
   "metadata": {},
   "outputs": [
    {
     "name": "stdout",
     "output_type": "stream",
     "text": [
      "DATA FRAME\n",
      "       X     Y   Z    x     y  Unnamed: 5\n",
      "0   20.0   0.0   0  708   991           1\n",
      "1    0.0  20.0   0  213   998           2\n",
      "2    0.0   0.0  20  455   597           3\n",
      "3   20.0  20.0   0  464  1192           4\n",
      "4   20.0   0.0  20  727   658           5\n",
      "5    0.0  20.0  20  182   665           6\n",
      "6    0.0  15.0  10  279   810           7\n",
      "7    0.0   7.5  15  373   699           8\n",
      "8   12.5  17.5   0  396  1082           9\n",
      "9    5.0   0.0   5  516   828          10\n",
      "10  10.0  10.0   0  463   998          11\n",
      "11  10.0   0.0  10  576   779          12\n",
      "12   0.0  10.0  10  343   784          13\n",
      "13   0.0   0.0   0  463   874          14\n",
      "14  15.0  10.0   0  529  1038          15\n",
      "15  15.0   0.0  10  642   805          16\n",
      "16  25.0   0.0  25  829   576          17\n",
      "17   0.0  25.0  25   76   586          18\n",
      "\n",
      "\n",
      "WORLD points\n",
      "[[20.0, 0.0, 0], [0.0, 20.0, 0], [0.0, 0.0, 20], [20.0, 20.0, 0], [20.0, 0.0, 20], [0.0, 20.0, 20], [0.0, 15.0, 10], [0.0, 7.5, 15], [12.5, 17.5, 0], [5.0, 0.0, 5], [10.0, 10.0, 0], [10.0, 0.0, 10], [0.0, 10.0, 10], [0.0, 0.0, 0], [15.0, 10.0, 0], [15.0, 0.0, 10], [25.0, 0.0, 25], [0.0, 25.0, 25]]\n",
      "\n",
      "\n",
      "NUMBER OF POINTS: 18\n",
      "\n",
      "\n",
      "mean =  [457.44444444 831.11111111]\n",
      "scale =  0.0012662346051491747\n",
      "\n",
      "\n",
      "ACTUAL PTS   |             ESTIMATED PTS\n",
      "[708 991]   <---->  [709.69471732 991.34286245   1.        ]\n",
      "[213 998]   <---->  [215.49775178 999.65841079   1.        ]\n",
      "[455 597]   <---->  [456.68224075 596.57192075   1.        ]\n",
      "[ 464 1192]   <---->  [4.64385912e+02 1.19348857e+03 1.00000000e+00]\n",
      "[727 658]   <---->  [728.18995319 657.04866234   1.        ]\n",
      "[182 665]   <---->  [182.19142606 664.33852909   1.        ]\n",
      "[279 810]   <---->  [276.13630903 810.89842256   1.        ]\n",
      "[373 699]   <---->  [371.88624645 697.23344578   1.        ]\n",
      "[ 396 1082]   <---->  [3.93702063e+02 1.08258179e+03 1.00000000e+00]\n",
      "[516 828]   <---->  [514.81388133 830.2535339    1.        ]\n",
      "[463 998]   <---->  [463.22976168 995.48997665   1.        ]\n",
      "[576 779]   <---->  [575.09160595 781.32398215   1.        ]\n",
      "[343 784]   <---->  [344.11621674 784.70111475   1.        ]\n",
      "[463 874]   <---->  [462.51281603 872.70815038   1.        ]\n",
      "[ 529 1038]   <---->  [5.29040916e+02 1.03461173e+03 1.00000000e+00]\n",
      "[642 805]   <---->  [642.68454622 805.44338514   1.        ]\n",
      "[829 576]   <---->  [827.44609544 576.47895638   1.        ]\n",
      "[ 76 586]   <---->  [ 76.64528884 585.88355053   1.        ]\n"
     ]
    }
   ],
   "source": [
    "\n",
    "xyz, img_pt_ = get_intrest_points()\n",
    "nd = 3\n",
    "P, err = DLTcalib(nd, xyz, img_pt_)\n",
    "P = P.reshape(3,4)"
   ]
  },
  {
   "cell_type": "markdown",
   "metadata": {},
   "source": [
    "### Projection matrix (P)"
   ]
  },
  {
   "cell_type": "code",
   "execution_count": 242,
   "metadata": {},
   "outputs": [
    {
     "name": "stdout",
     "output_type": "stream",
     "text": [
      "Matrix\n",
      "[[ 5.69272651e+00 -1.44197424e+01 -2.04513781e+00  4.62512816e+02]\n",
      " [-3.38023576e+00 -3.25018551e+00 -1.60975813e+01  8.72708150e+02]\n",
      " [-9.39329037e-03 -9.60097812e-03 -3.83988885e-03  1.00000000e+00]]\n"
     ]
    }
   ],
   "source": [
    "print('Matrix')\n",
    "print(P)"
   ]
  },
  {
   "cell_type": "markdown",
   "metadata": {},
   "source": [
    "### RMSE"
   ]
  },
  {
   "cell_type": "code",
   "execution_count": 243,
   "metadata": {},
   "outputs": [
    {
     "name": "stdout",
     "output_type": "stream",
     "text": [
      "\n",
      "Error\n",
      "2.0692087872744303\n"
     ]
    }
   ],
   "source": [
    "print('\\nError')\n",
    "print(err)"
   ]
  },
  {
   "cell_type": "markdown",
   "metadata": {},
   "source": [
    "### Camera Parameters"
   ]
  },
  {
   "cell_type": "code",
   "execution_count": 244,
   "metadata": {},
   "outputs": [
    {
     "name": "stdout",
     "output_type": "stream",
     "text": [
      "\n",
      "P:\n",
      " [[ 5.69272651e+00 -1.44197424e+01 -2.04513781e+00  4.62512816e+02]\n",
      " [-3.38023576e+00 -3.25018551e+00 -1.60975813e+01  8.72708150e+02]\n",
      " [-9.39329037e-03 -9.60097812e-03 -3.83988885e-03  1.00000000e+00]]\n",
      "\n",
      "M:\n",
      " [[ 5.69272651e+00 -1.44197424e+01 -2.04513781e+00]\n",
      " [-3.38023576e+00 -3.25018551e+00 -1.60975813e+01]\n",
      " [-9.39329037e-03 -9.60097812e-03 -3.83988885e-03]]\n",
      "[[ 1.  0.  0.]\n",
      " [ 0. -1.  0.]\n",
      " [ 0.  0.  1.]]\n",
      "\n",
      "\n",
      " K MATRIX: \n",
      "[[1.41549182e+01 8.46664248e-02 6.64453293e+00]\n",
      " [0.00000000e+00 1.41899036e+01 8.93131910e+00]\n",
      " [0.00000000e+00 0.00000000e+00 1.39698758e-02]]\n",
      "\n",
      "\n",
      " R MATRIX: \n",
      "[[ 0.7166994  -0.69731471 -0.00970399]\n",
      " [ 0.18500116  0.20352353 -0.96143265]\n",
      " [-0.67239612 -0.68726295 -0.27486922]]\n",
      "\n",
      "\n",
      " Camera center: \n",
      "[45.82396051 45.13378285 35.47857168]\n",
      "\n",
      "\n",
      " Normalized camera matrix: \n",
      "[[1.01324581e+03 6.06064261e+00 4.75632927e+02]\n",
      " [0.00000000e+00 1.01575016e+03 6.39327021e+02]\n",
      " [0.00000000e+00 0.00000000e+00 1.00000000e+00]]\n"
     ]
    }
   ],
   "source": [
    "camera_param(P.reshape(3,4))"
   ]
  },
  {
   "cell_type": "code",
   "execution_count": 245,
   "metadata": {},
   "outputs": [],
   "source": [
    "import cv2 as cv"
   ]
  },
  {
   "cell_type": "code",
   "execution_count": 246,
   "metadata": {},
   "outputs": [],
   "source": [
    "img = cv.imread('THREE_PLANE_DATA/image (12).jpg')\n",
    "cv.imshow('orginal image', img)"
   ]
  },
  {
   "cell_type": "code",
   "execution_count": null,
   "metadata": {},
   "outputs": [],
   "source": []
  },
  {
   "cell_type": "code",
   "execution_count": 247,
   "metadata": {},
   "outputs": [
    {
     "data": {
      "text/plain": [
       "(array([[ 0.02661088,  0.        ,  0.        , -0.22545325],\n",
       "        [ 0.        ,  0.02661088,  0.        , -0.2291492 ],\n",
       "        [ 0.        ,  0.        ,  0.02661088, -0.25132493],\n",
       "        [ 0.        ,  0.        ,  0.        ,  1.        ]]),\n",
       " array([[ 0.30676426, -0.2291492 , -0.25132493],\n",
       "        [-0.22545325,  0.3030683 , -0.25132493],\n",
       "        [-0.22545325, -0.2291492 ,  0.28089257],\n",
       "        [ 0.30676426,  0.3030683 , -0.25132493],\n",
       "        [ 0.30676426, -0.2291492 ,  0.28089257],\n",
       "        [-0.22545325,  0.3030683 ,  0.28089257],\n",
       "        [-0.22545325,  0.17001392,  0.01478382],\n",
       "        [-0.22545325, -0.02956764,  0.1478382 ],\n",
       "        [ 0.10718269,  0.23654111, -0.25132493],\n",
       "        [-0.09239887, -0.2291492 , -0.11827056],\n",
       "        [ 0.0406555 ,  0.03695955, -0.25132493],\n",
       "        [ 0.0406555 , -0.2291492 ,  0.01478382],\n",
       "        [-0.22545325,  0.03695955,  0.01478382],\n",
       "        [-0.22545325, -0.2291492 , -0.25132493],\n",
       "        [ 0.17370988,  0.03695955, -0.25132493],\n",
       "        [ 0.17370988, -0.2291492 ,  0.01478382],\n",
       "        [ 0.43981863, -0.2291492 ,  0.41394695],\n",
       "        [-0.22545325,  0.43612268,  0.41394695]]))"
      ]
     },
     "execution_count": 247,
     "metadata": {},
     "output_type": "execute_result"
    }
   ],
   "source": [
    "Norm(3, xyz)"
   ]
  },
  {
   "cell_type": "code",
   "execution_count": null,
   "metadata": {},
   "outputs": [],
   "source": []
  },
  {
   "cell_type": "code",
   "execution_count": null,
   "metadata": {},
   "outputs": [],
   "source": []
  },
  {
   "cell_type": "code",
   "execution_count": null,
   "metadata": {},
   "outputs": [],
   "source": []
  }
 ],
 "metadata": {
  "interpreter": {
   "hash": "2cb84744a1a3dec1f0cb36b55e7222da6edc1f05d02af618d0e675a72b0ceb97"
  },
  "kernelspec": {
   "display_name": "Python 3.7.11 64-bit ('OpenCV_project': conda)",
   "language": "python",
   "name": "python3"
  },
  "language_info": {
   "codemirror_mode": {
    "name": "ipython",
    "version": 3
   },
   "file_extension": ".py",
   "mimetype": "text/x-python",
   "name": "python",
   "nbconvert_exporter": "python",
   "pygments_lexer": "ipython3",
   "version": "3.7.11"
  },
  "orig_nbformat": 4
 },
 "nbformat": 4,
 "nbformat_minor": 2
}
